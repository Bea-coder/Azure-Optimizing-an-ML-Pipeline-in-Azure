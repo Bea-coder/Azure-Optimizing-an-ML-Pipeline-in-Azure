{
  "cells": [
    {
      "cell_type": "code",
      "source": [
        "from azureml.data.dataset_factory import TabularDatasetFactory\n",
        "from azureml.core import Dataset, Datastore\n",
        "\n",
        "# Create TabularDataset using TabularDatasetFactory\n",
        "# Data is available at: \n",
        "# \"https://automlsamplenotebookdata.blob.core.windows.net/automl-sample-notebook-data/bankmarketing_train.csv\"\n",
        "\n",
        "### YOUR CODE HERE ###\n",
        "data_path='https://automlsamplenotebookdata.blob.core.windows.net/automl-sample-notebook-data/bankmarketing_train.csv'\n",
        "ds =Dataset.Tabular.from_delimited_files(path=data_path)\n",
        "\n"
      ],
      "outputs": [],
      "execution_count": 19,
      "metadata": {
        "gather": {
          "logged": 1608285685825
        }
      }
    },
    {
      "cell_type": "code",
      "source": [
        "import pandas as pd\n",
        "def clean_data(data):\n",
        "    # Dict for cleaning data\n",
        "    months = {\"jan\":1, \"feb\":2, \"mar\":3, \"apr\":4, \"may\":5, \"jun\":6, \"jul\":7, \"aug\":8, \"sep\":9, \"oct\":10, \"nov\":11, \"dec\":12}\n",
        "    weekdays = {\"mon\":1, \"tue\":2, \"wed\":3, \"thu\":4, \"fri\":5, \"sat\":6, \"sun\":7}\n",
        "\n",
        "    # Clean and one hot encode data\n",
        "    print(\"data to pandas\")\n",
        "    x_df = data.to_pandas_dataframe().dropna()\n",
        "    print(\"one hot encode\")\n",
        "    jobs = pd.get_dummies(x_df.job, prefix=\"job\")\n",
        "    print(\"job dropped\")\n",
        "    x_df.drop(\"job\", inplace=True, axis=1)\n",
        "    print(\"adding jobs\")\n",
        "    x_df = x_df.join(jobs)\n",
        "    print(\"more cleaning\")\n",
        "    x_df[\"marital\"] = x_df.marital.apply(lambda s: 1 if s == \"married\" else 0)\n",
        "    x_df[\"default\"] = x_df.default.apply(lambda s: 1 if s == \"yes\" else 0)\n",
        "    x_df[\"housing\"] = x_df.housing.apply(lambda s: 1 if s == \"yes\" else 0)\n",
        "    x_df[\"loan\"] = x_df.loan.apply(lambda s: 1 if s == \"yes\" else 0)\n",
        "    print(\"one hot contact\")\n",
        "    contact = pd.get_dummies(x_df.contact, prefix=\"contact\")\n",
        "    x_df.drop(\"contact\", inplace=True, axis=1)\n",
        "    x_df = x_df.join(contact)\n",
        "    print(\"one hot education\")\n",
        "    education = pd.get_dummies(x_df.education, prefix=\"education\")\n",
        "    x_df.drop(\"education\", inplace=True, axis=1)\n",
        "    x_df = x_df.join(education)\n",
        "    print(\"maping\")\n",
        "    x_df[\"month\"] = x_df.month.map(months)\n",
        "    x_df[\"day_of_week\"] = x_df.day_of_week.map(weekdays)\n",
        "    x_df[\"poutcome\"] = x_df.poutcome.apply(lambda s: 1 if s == \"success\" else 0)\n",
        "    print(\"end\")\n",
        "    y_df = x_df.pop(\"y\").apply(lambda s: 1 if s == \"yes\" else 0)\n",
        "    return x_df,y_df"
      ],
      "outputs": [],
      "execution_count": 20,
      "metadata": {
        "gather": {
          "logged": 1608285688298
        }
      }
    },
    {
      "cell_type": "code",
      "source": [
        "df=ds.to_pandas_dataframe()\n",
        "df.head()"
      ],
      "outputs": [
        {
          "output_type": "execute_result",
          "execution_count": 24,
          "data": {
            "text/plain": "   age          job  marital    education  default housing loan    contact  \\\n0   57   technician  married  high.school       no      no  yes   cellular   \n1   55      unknown  married      unknown  unknown     yes   no  telephone   \n2   33  blue-collar  married     basic.9y       no      no   no   cellular   \n3   36       admin.  married  high.school       no      no   no  telephone   \n4   27    housemaid  married  high.school       no     yes   no   cellular   \n\n  month day_of_week  ...  campaign  pdays  previous     poutcome emp.var.rate  \\\n0   may         mon  ...         1    999         1      failure         -1.8   \n1   may         thu  ...         2    999         0  nonexistent          1.1   \n2   may         fri  ...         1    999         1      failure         -1.8   \n3   jun         fri  ...         4    999         0  nonexistent          1.4   \n4   jul         fri  ...         2    999         0  nonexistent          1.4   \n\n   cons.price.idx  cons.conf.idx  euribor3m  nr.employed   y  \n0          92.893          -46.2      1.299       5099.1  no  \n1          93.994          -36.4      4.860       5191.0  no  \n2          92.893          -46.2      1.313       5099.1  no  \n3          94.465          -41.8      4.967       5228.1  no  \n4          93.918          -42.7      4.963       5228.1  no  \n\n[5 rows x 21 columns]",
            "text/html": "<div>\n<style scoped>\n    .dataframe tbody tr th:only-of-type {\n        vertical-align: middle;\n    }\n\n    .dataframe tbody tr th {\n        vertical-align: top;\n    }\n\n    .dataframe thead th {\n        text-align: right;\n    }\n</style>\n<table border=\"1\" class=\"dataframe\">\n  <thead>\n    <tr style=\"text-align: right;\">\n      <th></th>\n      <th>age</th>\n      <th>job</th>\n      <th>marital</th>\n      <th>education</th>\n      <th>default</th>\n      <th>housing</th>\n      <th>loan</th>\n      <th>contact</th>\n      <th>month</th>\n      <th>day_of_week</th>\n      <th>...</th>\n      <th>campaign</th>\n      <th>pdays</th>\n      <th>previous</th>\n      <th>poutcome</th>\n      <th>emp.var.rate</th>\n      <th>cons.price.idx</th>\n      <th>cons.conf.idx</th>\n      <th>euribor3m</th>\n      <th>nr.employed</th>\n      <th>y</th>\n    </tr>\n  </thead>\n  <tbody>\n    <tr>\n      <th>0</th>\n      <td>57</td>\n      <td>technician</td>\n      <td>married</td>\n      <td>high.school</td>\n      <td>no</td>\n      <td>no</td>\n      <td>yes</td>\n      <td>cellular</td>\n      <td>may</td>\n      <td>mon</td>\n      <td>...</td>\n      <td>1</td>\n      <td>999</td>\n      <td>1</td>\n      <td>failure</td>\n      <td>-1.8</td>\n      <td>92.893</td>\n      <td>-46.2</td>\n      <td>1.299</td>\n      <td>5099.1</td>\n      <td>no</td>\n    </tr>\n    <tr>\n      <th>1</th>\n      <td>55</td>\n      <td>unknown</td>\n      <td>married</td>\n      <td>unknown</td>\n      <td>unknown</td>\n      <td>yes</td>\n      <td>no</td>\n      <td>telephone</td>\n      <td>may</td>\n      <td>thu</td>\n      <td>...</td>\n      <td>2</td>\n      <td>999</td>\n      <td>0</td>\n      <td>nonexistent</td>\n      <td>1.1</td>\n      <td>93.994</td>\n      <td>-36.4</td>\n      <td>4.860</td>\n      <td>5191.0</td>\n      <td>no</td>\n    </tr>\n    <tr>\n      <th>2</th>\n      <td>33</td>\n      <td>blue-collar</td>\n      <td>married</td>\n      <td>basic.9y</td>\n      <td>no</td>\n      <td>no</td>\n      <td>no</td>\n      <td>cellular</td>\n      <td>may</td>\n      <td>fri</td>\n      <td>...</td>\n      <td>1</td>\n      <td>999</td>\n      <td>1</td>\n      <td>failure</td>\n      <td>-1.8</td>\n      <td>92.893</td>\n      <td>-46.2</td>\n      <td>1.313</td>\n      <td>5099.1</td>\n      <td>no</td>\n    </tr>\n    <tr>\n      <th>3</th>\n      <td>36</td>\n      <td>admin.</td>\n      <td>married</td>\n      <td>high.school</td>\n      <td>no</td>\n      <td>no</td>\n      <td>no</td>\n      <td>telephone</td>\n      <td>jun</td>\n      <td>fri</td>\n      <td>...</td>\n      <td>4</td>\n      <td>999</td>\n      <td>0</td>\n      <td>nonexistent</td>\n      <td>1.4</td>\n      <td>94.465</td>\n      <td>-41.8</td>\n      <td>4.967</td>\n      <td>5228.1</td>\n      <td>no</td>\n    </tr>\n    <tr>\n      <th>4</th>\n      <td>27</td>\n      <td>housemaid</td>\n      <td>married</td>\n      <td>high.school</td>\n      <td>no</td>\n      <td>yes</td>\n      <td>no</td>\n      <td>cellular</td>\n      <td>jul</td>\n      <td>fri</td>\n      <td>...</td>\n      <td>2</td>\n      <td>999</td>\n      <td>0</td>\n      <td>nonexistent</td>\n      <td>1.4</td>\n      <td>93.918</td>\n      <td>-42.7</td>\n      <td>4.963</td>\n      <td>5228.1</td>\n      <td>no</td>\n    </tr>\n  </tbody>\n</table>\n<p>5 rows × 21 columns</p>\n</div>"
          },
          "metadata": {}
        }
      ],
      "execution_count": 24,
      "metadata": {
        "collapsed": true,
        "jupyter": {
          "source_hidden": false,
          "outputs_hidden": false
        },
        "nteract": {
          "transient": {
            "deleting": false
          }
        },
        "gather": {
          "logged": 1608286560122
        }
      }
    },
    {
      "cell_type": "code",
      "source": [
        "# Use the clean_data function to clean your data.\n",
        "### YOUR DATA OBJECT HERE ###)\n",
        "x, y = clean_data(ds)"
      ],
      "outputs": [
        {
          "output_type": "stream",
          "name": "stdout",
          "text": [
            "data to pandas\n",
            "one hot encode\n",
            "job dropped\n",
            "adding jobs\n",
            "more cleaning\n",
            "one hot contact\n",
            "one hot education\n",
            "maping\n",
            "end\n"
          ]
        }
      ],
      "execution_count": 21,
      "metadata": {
        "gather": {
          "logged": 1608285696234
        }
      }
    },
    {
      "cell_type": "code",
      "source": [
        "training_data=x.join(y)\n",
        "training_data.head()"
      ],
      "outputs": [
        {
          "output_type": "execute_result",
          "execution_count": 29,
          "data": {
            "text/plain": "   age  marital  default  housing  loan  month  day_of_week  duration  \\\n0   57        1        0        0     1      5            1       371   \n1   55        1        0        1     0      5            4       285   \n2   33        1        0        0     0      5            5        52   \n3   36        1        0        0     0      6            5       355   \n4   27        1        0        1     0      7            5       189   \n\n   campaign  pdays  ...  contact_telephone  education_basic.4y  \\\n0         1    999  ...                  0                   0   \n1         2    999  ...                  1                   0   \n2         1    999  ...                  0                   0   \n3         4    999  ...                  1                   0   \n4         2    999  ...                  0                   0   \n\n   education_basic.6y  education_basic.9y  education_high.school  \\\n0                   0                   0                      1   \n1                   0                   0                      0   \n2                   0                   1                      0   \n3                   0                   0                      1   \n4                   0                   0                      1   \n\n   education_illiterate  education_professional.course  \\\n0                     0                              0   \n1                     0                              0   \n2                     0                              0   \n3                     0                              0   \n4                     0                              0   \n\n   education_university.degree  education_unknown  y  \n0                            0                  0  0  \n1                            0                  1  0  \n2                            0                  0  0  \n3                            0                  0  0  \n4                            0                  0  0  \n\n[5 rows x 40 columns]",
            "text/html": "<div>\n<style scoped>\n    .dataframe tbody tr th:only-of-type {\n        vertical-align: middle;\n    }\n\n    .dataframe tbody tr th {\n        vertical-align: top;\n    }\n\n    .dataframe thead th {\n        text-align: right;\n    }\n</style>\n<table border=\"1\" class=\"dataframe\">\n  <thead>\n    <tr style=\"text-align: right;\">\n      <th></th>\n      <th>age</th>\n      <th>marital</th>\n      <th>default</th>\n      <th>housing</th>\n      <th>loan</th>\n      <th>month</th>\n      <th>day_of_week</th>\n      <th>duration</th>\n      <th>campaign</th>\n      <th>pdays</th>\n      <th>...</th>\n      <th>contact_telephone</th>\n      <th>education_basic.4y</th>\n      <th>education_basic.6y</th>\n      <th>education_basic.9y</th>\n      <th>education_high.school</th>\n      <th>education_illiterate</th>\n      <th>education_professional.course</th>\n      <th>education_university.degree</th>\n      <th>education_unknown</th>\n      <th>y</th>\n    </tr>\n  </thead>\n  <tbody>\n    <tr>\n      <th>0</th>\n      <td>57</td>\n      <td>1</td>\n      <td>0</td>\n      <td>0</td>\n      <td>1</td>\n      <td>5</td>\n      <td>1</td>\n      <td>371</td>\n      <td>1</td>\n      <td>999</td>\n      <td>...</td>\n      <td>0</td>\n      <td>0</td>\n      <td>0</td>\n      <td>0</td>\n      <td>1</td>\n      <td>0</td>\n      <td>0</td>\n      <td>0</td>\n      <td>0</td>\n      <td>0</td>\n    </tr>\n    <tr>\n      <th>1</th>\n      <td>55</td>\n      <td>1</td>\n      <td>0</td>\n      <td>1</td>\n      <td>0</td>\n      <td>5</td>\n      <td>4</td>\n      <td>285</td>\n      <td>2</td>\n      <td>999</td>\n      <td>...</td>\n      <td>1</td>\n      <td>0</td>\n      <td>0</td>\n      <td>0</td>\n      <td>0</td>\n      <td>0</td>\n      <td>0</td>\n      <td>0</td>\n      <td>1</td>\n      <td>0</td>\n    </tr>\n    <tr>\n      <th>2</th>\n      <td>33</td>\n      <td>1</td>\n      <td>0</td>\n      <td>0</td>\n      <td>0</td>\n      <td>5</td>\n      <td>5</td>\n      <td>52</td>\n      <td>1</td>\n      <td>999</td>\n      <td>...</td>\n      <td>0</td>\n      <td>0</td>\n      <td>0</td>\n      <td>1</td>\n      <td>0</td>\n      <td>0</td>\n      <td>0</td>\n      <td>0</td>\n      <td>0</td>\n      <td>0</td>\n    </tr>\n    <tr>\n      <th>3</th>\n      <td>36</td>\n      <td>1</td>\n      <td>0</td>\n      <td>0</td>\n      <td>0</td>\n      <td>6</td>\n      <td>5</td>\n      <td>355</td>\n      <td>4</td>\n      <td>999</td>\n      <td>...</td>\n      <td>1</td>\n      <td>0</td>\n      <td>0</td>\n      <td>0</td>\n      <td>1</td>\n      <td>0</td>\n      <td>0</td>\n      <td>0</td>\n      <td>0</td>\n      <td>0</td>\n    </tr>\n    <tr>\n      <th>4</th>\n      <td>27</td>\n      <td>1</td>\n      <td>0</td>\n      <td>1</td>\n      <td>0</td>\n      <td>7</td>\n      <td>5</td>\n      <td>189</td>\n      <td>2</td>\n      <td>999</td>\n      <td>...</td>\n      <td>0</td>\n      <td>0</td>\n      <td>0</td>\n      <td>0</td>\n      <td>1</td>\n      <td>0</td>\n      <td>0</td>\n      <td>0</td>\n      <td>0</td>\n      <td>0</td>\n    </tr>\n  </tbody>\n</table>\n<p>5 rows × 40 columns</p>\n</div>"
          },
          "metadata": {}
        }
      ],
      "execution_count": 29,
      "metadata": {
        "collapsed": true,
        "jupyter": {
          "source_hidden": false,
          "outputs_hidden": false
        },
        "nteract": {
          "transient": {
            "deleting": false
          }
        },
        "gather": {
          "logged": 1608287301370
        }
      }
    },
    {
      "cell_type": "code",
      "source": [
        "from azureml.train.automl import AutoMLConfig\n",
        "\n",
        "# Set parameters for AutoMLConfig\n",
        "# NOTE: DO NOT CHANGE THE experiment_timeout_minutes PARAMETER OR YOUR INSTANCE WILL TIME OUT.\n",
        "# If you wish to run the experiment longer, you will need to run this notebook in your own\n",
        "# Azure tenant, which will incur personal costs.\n",
        "automl_config = AutoMLConfig(\n",
        "    experiment_timeout_minutes=30,\n",
        "    task=\"classification\",\n",
        "    primary_metric=\"accuracy\",\n",
        "    training_data=training_data,\n",
        "    label_column_name=\"y\",\n",
        "    n_cross_validations=5)"
      ],
      "outputs": [],
      "execution_count": 30,
      "metadata": {
        "gather": {
          "logged": 1608287328957
        }
      }
    },
    {
      "cell_type": "code",
      "source": [
        "from azureml.core import Workspace, Experiment\n",
        "#change myworspace name accordingly\n",
        "ws = Workspace.get(name=\"myworkspace\")\n",
        "# Submit your automl run\n",
        "experiment = Experiment(ws, \"automl_test_experiment\")\n",
        "run = experiment.submit(config=automl_config, show_output=True)"
      ],
      "outputs": [
        {
          "output_type": "stream",
          "name": "stdout",
          "text": [
            "Running on local machine\n",
            "Parent Run ID: AutoML_20bf90c1-ff17-4ab7-b84d-c5ec3b9955a3\n",
            "\n",
            "Current status: DatasetEvaluation. Gathering dataset statistics.\n",
            "Current status: FeaturesGeneration. Generating features for the dataset.\n",
            "Current status: DatasetFeaturization. Beginning to fit featurizers and featurize the dataset.\n",
            "Current status: DatasetFeaturizationCompleted. Completed fit featurizers and featurizing the dataset.\n",
            "Current status: DatasetBalancing. Performing class balancing sweeping\n",
            "Current status: DatasetCrossValidationSplit. Generating individually featurized CV splits.\n",
            "\n",
            "****************************************************************************************************\n",
            "DATA GUARDRAILS: \n",
            "\n",
            "TYPE:         Class balancing detection\n",
            "STATUS:       ALERTED\n",
            "DESCRIPTION:  To decrease model bias, please cancel the current run and fix balancing problem.\n",
            "              Learn more about imbalanced data: https://aka.ms/AutomatedMLImbalancedData\n",
            "DETAILS:      Imbalanced data can lead to a falsely perceived positive effect of a model's accuracy because the input data has bias towards one class.\n",
            "+---------------------------------+---------------------------------+--------------------------------------+\n",
            "|Size of the smallest class       |Name/Label of the smallest class |Number of samples in the training data|\n",
            "+=================================+=================================+======================================+\n",
            "|3692                             |1                                |32950                                 |\n",
            "+---------------------------------+---------------------------------+--------------------------------------+\n",
            "\n",
            "****************************************************************************************************\n",
            "\n",
            "TYPE:         Missing feature values imputation\n",
            "STATUS:       PASSED\n",
            "DESCRIPTION:  No feature missing values were detected in the training data.\n",
            "              Learn more about missing value imputation: https://aka.ms/AutomatedMLFeaturization\n",
            "\n",
            "****************************************************************************************************\n",
            "\n",
            "TYPE:         High cardinality feature detection\n",
            "STATUS:       PASSED\n",
            "DESCRIPTION:  Your inputs were analyzed, and no high cardinality features were detected.\n",
            "              Learn more about high cardinality feature handling: https://aka.ms/AutomatedMLFeaturization\n",
            "\n",
            "****************************************************************************************************\n",
            "Current status: ModelSelection. Beginning model selection.\n",
            "\n",
            "****************************************************************************************************\n",
            "ITERATION: The iteration being evaluated.\n",
            "PIPELINE: A summary description of the pipeline being evaluated.\n",
            "DURATION: Time taken for the current iteration.\n",
            "METRIC: The result of computing score on the fitted pipeline.\n",
            "BEST: The best observed score thus far.\n",
            "****************************************************************************************************\n",
            "\n",
            " ITERATION   PIPELINE                                       DURATION      METRIC      BEST\n",
            "         0   MaxAbsScaler LightGBM                          0:00:31       0.9151    0.9151\n",
            "         1   MaxAbsScaler XGBoostClassifier                 0:00:46       0.9149    0.9151\n",
            "         2   MaxAbsScaler RandomForest                      0:00:34       0.8949    0.9151\n",
            "         3   MaxAbsScaler RandomForest                      0:00:33       0.8880    0.9151\n",
            "         4   MaxAbsScaler RandomForest                      0:00:33       0.7959    0.9151\n",
            "         5   MaxAbsScaler RandomForest                      0:00:25       0.7808    0.9151\n",
            "         6   SparseNormalizer XGBoostClassifier             0:00:51       0.9110    0.9151\n",
            "         7   MaxAbsScaler GradientBoosting                  0:00:37       0.9027    0.9151\n",
            "         8   StandardScalerWrapper RandomForest             0:00:36       0.8999    0.9151\n",
            "         9   MaxAbsScaler LogisticRegression                0:00:38       0.9085    0.9151\n",
            "        10   MaxAbsScaler LightGBM                          0:00:28       0.8910    0.9151\n",
            "        11   SparseNormalizer XGBoostClassifier             0:00:45       0.9111    0.9151\n",
            "        12   MaxAbsScaler ExtremeRandomTrees                0:01:52       0.8880    0.9151\n",
            "        13   StandardScalerWrapper LightGBM                 0:00:26       0.8880    0.9151\n",
            "        14   SparseNormalizer XGBoostClassifier             0:01:43       0.9139    0.9151\n",
            "        15   MaxAbsScaler LightGBM                          0:00:39       0.9101    0.9151\n",
            "        16   StandardScalerWrapper LightGBM                 0:00:27       0.8880    0.9151\n",
            "        17   StandardScalerWrapper ExtremeRandomTrees       0:00:43       0.8880    0.9151\n",
            "        18   MaxAbsScaler LightGBM                          0:00:34       0.9063    0.9151\n",
            "        19   StandardScalerWrapper LightGBM                 0:00:46       0.9081    0.9151\n",
            "        20   MaxAbsScaler LightGBM                          0:00:40       0.8962    0.9151\n",
            "        21   SparseNormalizer RandomForest                  0:00:35       0.8880    0.9151\n",
            "        22   SparseNormalizer XGBoostClassifier             0:00:31       0.8989    0.9151\n",
            "        23   StandardScalerWrapper LightGBM                 0:00:26       0.8921    0.9151\n",
            "        24   StandardScalerWrapper XGBoostClassifier        0:00:57       0.9078    0.9151\n",
            "        25   MaxAbsScaler LightGBM                          0:00:30       0.8880    0.9151\n",
            "        26   SparseNormalizer XGBoostClassifier             0:00:50       0.9151    0.9151\n",
            "        27   SparseNormalizer XGBoostClassifier             0:01:05       0.9141    0.9151\n",
            "        28   SparseNormalizer XGBoostClassifier             0:01:00       0.9160    0.9160\n",
            "        29   SparseNormalizer LightGBM                      0:00:30       0.9108    0.9160\n",
            "        30   TruncatedSVDWrapper XGBoostClassifier          0:00:32       0.8880    0.9160\n",
            "        31   StandardScalerWrapper XGBoostClassifier        0:00:37       0.9084    0.9160\n",
            "        32   SparseNormalizer XGBoostClassifier             0:01:36       0.9139    0.9160\n",
            "        33   VotingEnsemble                                 0:01:21       0.9170    0.9170\n",
            "        34   StackEnsemble                                  0:02:07       0.9154    0.9170\n",
            "Stopping criteria reached at iteration 35. Ending experiment.\n",
            "****************************************************************************************************\n",
            "Current status: BestRunExplainModel. Best run model explanations started\n",
            "Current status: ModelExplanationDataSetSetup. Model explanations data setup completed\n",
            "Current status: PickSurrogateModel. Choosing LightGBM as the surrogate model for explanations\n",
            "Current status: EngineeredFeatureExplanations. Computation of engineered features started\n",
            "Current status: EngineeredFeatureExplanations. Computation of engineered features completed\n",
            "Current status: RawFeaturesExplanations. Computation of raw features started\n",
            "Current status: RawFeaturesExplanations. Computation of raw features completed\n",
            "Current status: BestRunExplainModel. Best run model explanations completed\n",
            "****************************************************************************************************\n"
          ]
        }
      ],
      "execution_count": 31,
      "metadata": {
        "collapsed": true,
        "jupyter": {
          "source_hidden": false,
          "outputs_hidden": false
        },
        "nteract": {
          "transient": {
            "deleting": false
          }
        },
        "gather": {
          "logged": 1608289550247
        }
      }
    },
    {
      "cell_type": "code",
      "source": [
        "# Retrieve and save your best automl model.\n",
        "\n",
        "### YOUR CODE HERE ###\n",
        "#best_run = run.\n",
        "#best_run_metrics = best_run.get_\n",
        "#parameter_values = best_run.get_details()['runDefinition']['Arguments']\n",
        "best_run, model = run.get_output()\n",
        "estimator = model.steps[-1]"
      ],
      "outputs": [],
      "execution_count": 34,
      "metadata": {
        "collapsed": true,
        "jupyter": {
          "source_hidden": false,
          "outputs_hidden": false
        },
        "nteract": {
          "transient": {
            "deleting": false
          }
        },
        "gather": {
          "logged": 1608290830673
        }
      }
    },
    {
      "cell_type": "code",
      "source": [
        "best_run.get_details()"
      ],
      "outputs": [
        {
          "output_type": "execute_result",
          "execution_count": 35,
          "data": {
            "text/plain": "{'runId': 'AutoML_20bf90c1-ff17-4ab7-b84d-c5ec3b9955a3_33',\n 'status': 'Completed',\n 'startTimeUtc': '2020-12-18T11:01:19.20084Z',\n 'endTimeUtc': '2020-12-18T11:02:40.403796Z',\n 'properties': {'runTemplate': 'automl_child',\n  'pipeline_id': '__AutoML_Ensemble__',\n  'pipeline_spec': '{\"pipeline_id\":\"__AutoML_Ensemble__\",\"objects\":[{\"module\":\"azureml.train.automl.ensemble\",\"class_name\":\"Ensemble\",\"spec_class\":\"sklearn\",\"param_args\":[],\"param_kwargs\":{\"automl_settings\":\"{\\'task_type\\':\\'classification\\',\\'primary_metric\\':\\'accuracy\\',\\'verbosity\\':20,\\'ensemble_iterations\\':15,\\'is_timeseries\\':False,\\'name\\':\\'automl_test_experiment\\',\\'compute_target\\':\\'local\\',\\'subscription_id\\':\\'26fa4a48-44da-4329-be20-b2ed37dcaadc\\',\\'region\\':\\'southcentralus\\',\\'spark_service\\':None}\",\"ensemble_run_id\":\"AutoML_20bf90c1-ff17-4ab7-b84d-c5ec3b9955a3_33\",\"experiment_name\":null,\"workspace_name\":\"myworkspace\",\"subscription_id\":\"26fa4a48-44da-4329-be20-b2ed37dcaadc\",\"resource_group_name\":\"sdk\"}}]}',\n  'training_percent': '100',\n  'predicted_cost': None,\n  'iteration': '33',\n  '_azureml.ComputeTargetType': 'local',\n  '_aml_system_scenario_identification': 'Local.Child',\n  'run_template': 'automl_child',\n  'run_preprocessor': '',\n  'run_algorithm': 'VotingEnsemble',\n  'conda_env_data_location': 'aml://artifact/ExperimentRun/dcid.AutoML_20bf90c1-ff17-4ab7-b84d-c5ec3b9955a3_33/outputs/conda_env_v_1_0_0.yml',\n  'model_data_location': 'aml://artifact/ExperimentRun/dcid.AutoML_20bf90c1-ff17-4ab7-b84d-c5ec3b9955a3_33/outputs/model.pkl',\n  'model_size_on_disk': '1926890',\n  'scoring_data_location': 'aml://artifact/ExperimentRun/dcid.AutoML_20bf90c1-ff17-4ab7-b84d-c5ec3b9955a3_33/outputs/scoring_file_v_1_0_0.py',\n  'model_exp_support': 'True',\n  'pipeline_graph_version': '1.0.0',\n  'model_name': 'AutoML20bf90c1f33',\n  'staticProperties': '{}',\n  'score': '0.9169650986342944',\n  'run_properties': \"classification_labels=None,\\n                              estimators=[('28',\\n                                           Pipeline(memory=None,\\n                                                    steps=[('sparsenormalizer',\\n                                                            <azureml.automl.runtime.shared.model_wrappers.SparseNormalizer object at 0x7f0f9d79d978>\",\n  'pipeline_script': '{\"pipeline_id\":\"__AutoML_Ensemble__\",\"objects\":[{\"module\":\"azureml.train.automl.ensemble\",\"class_name\":\"Ensemble\",\"spec_class\":\"sklearn\",\"param_args\":[],\"param_kwargs\":{\"automl_settings\":\"{\\'task_type\\':\\'classification\\',\\'primary_metric\\':\\'accuracy\\',\\'verbosity\\':20,\\'ensemble_iterations\\':15,\\'is_timeseries\\':False,\\'name\\':\\'automl_test_experiment\\',\\'compute_target\\':\\'local\\',\\'subscription_id\\':\\'26fa4a48-44da-4329-be20-b2ed37dcaadc\\',\\'region\\':\\'southcentralus\\',\\'spark_service\\':None}\",\"ensemble_run_id\":\"AutoML_20bf90c1-ff17-4ab7-b84d-c5ec3b9955a3_33\",\"experiment_name\":null,\"workspace_name\":\"myworkspace\",\"subscription_id\":\"26fa4a48-44da-4329-be20-b2ed37dcaadc\",\"resource_group_name\":\"sdk\"}}]}',\n  'training_type': 'MeanCrossValidation',\n  'num_classes': '2',\n  'framework': 'sklearn',\n  'fit_time': '67',\n  'goal': 'accuracy_max',\n  'class_labels': '',\n  'primary_metric': 'accuracy',\n  'errors': '{}',\n  'fitted_pipeline': \"Pipeline(memory=None,\\n         steps=[('datatransformer',\\n                 DataTransformer(enable_dnn=None, enable_feature_sweeping=None,\\n                                 feature_sweeping_config=None,\\n                                 feature_sweeping_timeout=None,\\n                                 featurization_config=None, force_text_dnn=None,\\n                                 is_cross_validation=None,\\n                                 is_onnx_compatible=None, logger=None,\\n                                 observer=None, task=None, working_dir=None)),\\n                ('prefittedsoftvotingclassifier',...\\n                                                                                                    min_samples_leaf=0.01,\\n                                                                                                    min_samples_split=0.01,\\n                                                                                                    min_weight_fraction_leaf=0.0,\\n                                                                                                    n_estimators=25,\\n                                                                                                    n_jobs=1,\\n                                                                                                    oob_score=True,\\n                                                                                                    random_state=None,\\n                                                                                                    verbose=0,\\n                                                                                                    warm_start=False))],\\n                                                                     verbose=False))],\\n                                               flatten_transform=None,\\n                                               weights=[0.26666666666666666,\\n                                                        0.13333333333333333,\\n                                                        0.13333333333333333,\\n                                                        0.2,\\n                                                        0.13333333333333333,\\n                                                        0.06666666666666667,\\n                                                        0.06666666666666667]))],\\n         verbose=False)\",\n  'friendly_errors': '{}',\n  'onnx_model_resource': '{}',\n  'error_code': '',\n  'failure_reason': '',\n  'feature_skus': 'automatedml_sdk_guardrails',\n  'dependencies_versions': '{\"azureml-widgets\": \"1.18.0\", \"azureml-train\": \"1.18.0\", \"azureml-train-restclients-hyperdrive\": \"1.18.0\", \"azureml-train-core\": \"1.18.0\", \"azureml-train-automl\": \"1.18.0\", \"azureml-train-automl-runtime\": \"1.18.0\", \"azureml-train-automl-client\": \"1.18.0\", \"azureml-tensorboard\": \"1.18.0\", \"azureml-telemetry\": \"1.18.0\", \"azureml-sdk\": \"1.18.0\", \"azureml-samples\": \"0+unknown\", \"azureml-pipeline\": \"1.18.0\", \"azureml-pipeline-steps\": \"1.18.0\", \"azureml-pipeline-core\": \"1.18.0\", \"azureml-opendatasets\": \"1.18.0\", \"azureml-model-management-sdk\": \"1.0.1b6.post1\", \"azureml-mlflow\": \"1.18.0\", \"azureml-interpret\": \"1.18.0\", \"azureml-explain-model\": \"1.18.0\", \"azureml-defaults\": \"1.18.0\", \"azureml-dataset-runtime\": \"1.18.0\", \"azureml-dataprep\": \"2.4.2\", \"azureml-dataprep-rslex\": \"1.2.2\", \"azureml-dataprep-native\": \"24.0.0\", \"azureml-datadrift\": \"1.18.0\", \"azureml-core\": \"1.18.0\", \"azureml-contrib-services\": \"1.18.0\", \"azureml-contrib-server\": \"1.18.0\", \"azureml-contrib-reinforcementlearning\": \"1.18.0\", \"azureml-contrib-pipeline-steps\": \"1.18.0\", \"azureml-contrib-notebook\": \"1.18.0\", \"azureml-contrib-interpret\": \"1.18.0\", \"azureml-contrib-gbdt\": \"1.18.0\", \"azureml-contrib-fairness\": \"1.18.0\", \"azureml-contrib-dataset\": \"1.18.0\", \"azureml-cli-common\": \"1.18.0\", \"azureml-automl-runtime\": \"1.18.0\", \"azureml-automl-core\": \"1.18.0\", \"azureml-accel-models\": \"1.18.0\"}',\n  'num_cores': '1',\n  'num_logical_cores': '2',\n  'peak_memory_usage': '1753820',\n  'vm_configuration': 'Intel(R) Xeon(R) Platinum 8171M CPU @ 2.60GHz',\n  'core_hours': '0.013196327222222205'},\n 'inputDatasets': [],\n 'outputDatasets': [],\n 'logFiles': {}}"
          },
          "metadata": {}
        }
      ],
      "execution_count": 35,
      "metadata": {
        "collapsed": true,
        "jupyter": {
          "source_hidden": false,
          "outputs_hidden": false
        },
        "nteract": {
          "transient": {
            "deleting": false
          }
        },
        "gather": {
          "logged": 1608290894617
        }
      }
    },
    {
      "cell_type": "code",
      "source": [
        "best_run_metrics = best_run.get_metrics()\n",
        "parameter_values = best_run.get_details()['runDefinition']['Arguments']\n",
        "\n",
        "print('Best Run Id: ', best_run.id)\n",
        "print('\\n Accuracy:', best_run_metrics['accuracy'])\n",
        "#print('\\n C :',parameter_values[3])\n",
        "#print('\\n :',parameter_values[5])\n",
        "#print('\\n batch size:',parameter_values[7])"
      ],
      "outputs": [
        {
          "output_type": "error",
          "ename": "KeyError",
          "evalue": "'runDefinition'",
          "traceback": [
            "\u001b[0;31m---------------------------------------------------------------------------\u001b[0m",
            "\u001b[0;31mKeyError\u001b[0m                                  Traceback (most recent call last)",
            "\u001b[0;32m<ipython-input-36-77b090b3ded1>\u001b[0m in \u001b[0;36m<module>\u001b[0;34m\u001b[0m\n\u001b[1;32m      1\u001b[0m \u001b[0mbest_run_metrics\u001b[0m \u001b[0;34m=\u001b[0m \u001b[0mbest_run\u001b[0m\u001b[0;34m.\u001b[0m\u001b[0mget_metrics\u001b[0m\u001b[0;34m(\u001b[0m\u001b[0;34m)\u001b[0m\u001b[0;34m\u001b[0m\u001b[0;34m\u001b[0m\u001b[0m\n\u001b[0;32m----> 2\u001b[0;31m \u001b[0mparameter_values\u001b[0m \u001b[0;34m=\u001b[0m \u001b[0mbest_run\u001b[0m\u001b[0;34m.\u001b[0m\u001b[0mget_details\u001b[0m\u001b[0;34m(\u001b[0m\u001b[0;34m)\u001b[0m\u001b[0;34m[\u001b[0m\u001b[0;34m'runDefinition'\u001b[0m\u001b[0;34m]\u001b[0m\u001b[0;34m[\u001b[0m\u001b[0;34m'Arguments'\u001b[0m\u001b[0;34m]\u001b[0m\u001b[0;34m\u001b[0m\u001b[0;34m\u001b[0m\u001b[0m\n\u001b[0m\u001b[1;32m      3\u001b[0m \u001b[0;34m\u001b[0m\u001b[0m\n\u001b[1;32m      4\u001b[0m \u001b[0mprint\u001b[0m\u001b[0;34m(\u001b[0m\u001b[0;34m'Best Run Id: '\u001b[0m\u001b[0;34m,\u001b[0m \u001b[0mbest_run\u001b[0m\u001b[0;34m.\u001b[0m\u001b[0mid\u001b[0m\u001b[0;34m)\u001b[0m\u001b[0;34m\u001b[0m\u001b[0;34m\u001b[0m\u001b[0m\n\u001b[1;32m      5\u001b[0m \u001b[0mprint\u001b[0m\u001b[0;34m(\u001b[0m\u001b[0;34m'\\n Accuracy:'\u001b[0m\u001b[0;34m,\u001b[0m \u001b[0mbest_run_metrics\u001b[0m\u001b[0;34m[\u001b[0m\u001b[0;34m'accuracy'\u001b[0m\u001b[0;34m]\u001b[0m\u001b[0;34m)\u001b[0m\u001b[0;34m\u001b[0m\u001b[0;34m\u001b[0m\u001b[0m\n",
            "\u001b[0;31mKeyError\u001b[0m: 'runDefinition'"
          ]
        }
      ],
      "execution_count": 36,
      "metadata": {
        "collapsed": true,
        "jupyter": {
          "source_hidden": false,
          "outputs_hidden": false
        },
        "nteract": {
          "transient": {
            "deleting": false
          }
        }
      }
    },
    {
      "cell_type": "code",
      "source": [],
      "outputs": [],
      "execution_count": null,
      "metadata": {
        "collapsed": true,
        "jupyter": {
          "source_hidden": false,
          "outputs_hidden": false
        },
        "nteract": {
          "transient": {
            "deleting": false
          }
        }
      }
    }
  ],
  "metadata": {
    "kernelspec": {
      "name": "python3-azureml",
      "language": "python",
      "display_name": "Python 3.6 - AzureML"
    },
    "language_info": {
      "name": "python",
      "version": "3.6.9",
      "mimetype": "text/x-python",
      "codemirror_mode": {
        "name": "ipython",
        "version": 3
      },
      "pygments_lexer": "ipython3",
      "nbconvert_exporter": "python",
      "file_extension": ".py"
    },
    "kernel_info": {
      "name": "python3-azureml"
    },
    "nteract": {
      "version": "nteract-front-end@1.0.0"
    }
  },
  "nbformat": 4,
  "nbformat_minor": 4
}